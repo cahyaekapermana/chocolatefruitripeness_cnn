{
  "nbformat": 4,
  "nbformat_minor": 0,
  "metadata": {
    "colab": {
      "name": "proyek3_chocolatefruitripeness.ipynb",
      "provenance": [],
      "include_colab_link": true
    },
    "kernelspec": {
      "name": "python3",
      "display_name": "Python 3"
    },
    "language_info": {
      "name": "python"
    }
  },
  "cells": [
    {
      "cell_type": "markdown",
      "metadata": {
        "id": "view-in-github",
        "colab_type": "text"
      },
      "source": [
        "<a href=\"https://colab.research.google.com/github/amelrnt/chocolatefruitripeness_cnn/blob/main/proyek3_chocolatefruitripeness.ipynb\" target=\"_parent\"><img src=\"https://colab.research.google.com/assets/colab-badge.svg\" alt=\"Open In Colab\"/></a>"
      ]
    },
    {
      "cell_type": "markdown",
      "metadata": {
        "id": "muaFkrpgWbvs"
      },
      "source": [
        "**PS: Create your kaggle credentials then upload to your runtime before running the script since the data source is public kaggle datasets**\n"
      ]
    },
    {
      "cell_type": "code",
      "metadata": {
        "id": "2NIB7odH6rgj",
        "colab": {
          "base_uri": "https://localhost:8080/"
        },
        "outputId": "46eba203-3ae2-4c00-e0b4-638fca4d558f"
      },
      "source": [
        "! pip install kaggle"
      ],
      "execution_count": 2,
      "outputs": [
        {
          "output_type": "stream",
          "name": "stdout",
          "text": [
            "Requirement already satisfied: kaggle in /usr/local/lib/python3.7/dist-packages (1.5.12)\n",
            "Requirement already satisfied: urllib3 in /usr/local/lib/python3.7/dist-packages (from kaggle) (1.24.3)\n",
            "Requirement already satisfied: tqdm in /usr/local/lib/python3.7/dist-packages (from kaggle) (4.62.2)\n",
            "Requirement already satisfied: python-dateutil in /usr/local/lib/python3.7/dist-packages (from kaggle) (2.8.2)\n",
            "Requirement already satisfied: python-slugify in /usr/local/lib/python3.7/dist-packages (from kaggle) (5.0.2)\n",
            "Requirement already satisfied: six>=1.10 in /usr/local/lib/python3.7/dist-packages (from kaggle) (1.15.0)\n",
            "Requirement already satisfied: certifi in /usr/local/lib/python3.7/dist-packages (from kaggle) (2021.5.30)\n",
            "Requirement already satisfied: requests in /usr/local/lib/python3.7/dist-packages (from kaggle) (2.23.0)\n",
            "Requirement already satisfied: text-unidecode>=1.3 in /usr/local/lib/python3.7/dist-packages (from python-slugify->kaggle) (1.3)\n",
            "Requirement already satisfied: chardet<4,>=3.0.2 in /usr/local/lib/python3.7/dist-packages (from requests->kaggle) (3.0.4)\n",
            "Requirement already satisfied: idna<3,>=2.5 in /usr/local/lib/python3.7/dist-packages (from requests->kaggle) (2.10)\n"
          ]
        }
      ]
    },
    {
      "cell_type": "code",
      "metadata": {
        "id": "hvtgPX_BV6kN"
      },
      "source": [
        "! mkdir ~/.kaggle"
      ],
      "execution_count": 3,
      "outputs": []
    },
    {
      "cell_type": "code",
      "metadata": {
        "id": "JqBm8i18V8yi"
      },
      "source": [
        "! cp kaggle.json ~/.kaggle/"
      ],
      "execution_count": 4,
      "outputs": []
    },
    {
      "cell_type": "code",
      "metadata": {
        "id": "lv4lV7_CV-qO"
      },
      "source": [
        "! chmod 600 ~/.kaggle/kaggle.json"
      ],
      "execution_count": 5,
      "outputs": []
    },
    {
      "cell_type": "code",
      "metadata": {
        "colab": {
          "base_uri": "https://localhost:8080/"
        },
        "id": "ARqdM410SUij",
        "outputId": "7cdef2ae-5557-4cf8-a10e-9c1747404b2e"
      },
      "source": [
        "! kaggle datasets download juanfelipeheredia/cocoa-ripeness-dataset-tcs-01"
      ],
      "execution_count": 6,
      "outputs": [
        {
          "output_type": "stream",
          "name": "stdout",
          "text": [
            "Downloading cocoa-ripeness-dataset-tcs-01.zip to /content\n",
            " 91% 40.0M/44.1M [00:00<00:00, 86.5MB/s]\n",
            "100% 44.1M/44.1M [00:00<00:00, 80.8MB/s]\n"
          ]
        }
      ]
    },
    {
      "cell_type": "code",
      "metadata": {
        "id": "-PYBlwbXGD9A"
      },
      "source": [
        "!unzip cocoa-ripeness-dataset-tcs-01.zip"
      ],
      "execution_count": null,
      "outputs": []
    },
    {
      "cell_type": "code",
      "metadata": {
        "id": "whVdKC-BFW6g"
      },
      "source": [
        "try:\n",
        "  # This command only in Colab.\n",
        "  %tensorflow_version 2.x\n",
        "except Exception:\n",
        "  pass\n",
        "import tensorflow as tf\n",
        "\n",
        "from tensorflow.keras.models import Sequential\n",
        "from tensorflow.keras.layers import Dense, Conv2D, Flatten, Dropout, MaxPooling2D\n",
        "from tensorflow.keras.preprocessing.image import ImageDataGenerator\n",
        "\n",
        "import os\n",
        "import numpy as np\n",
        "import matplotlib.pyplot as plt"
      ],
      "execution_count": 1,
      "outputs": []
    },
    {
      "cell_type": "code",
      "metadata": {
        "id": "VvrB0M-VaGu4"
      },
      "source": [
        "PATH = 'Cocoa Ripeness Dataset'\n",
        "\n",
        "immature_dir = os.path.join(PATH, 'immature')\n",
        "if not os.path.exists(immature_dir):\n",
        "  os.makedirs(immature_dir)\n",
        "\n",
        "mature_dir = os.path.join(PATH, 'mature')\n",
        "if not os.path.exists(mature_dir):\n",
        "  os.makedirs(mature_dir)\n",
        "\n",
        "overmature_dir = os.path.join(PATH, 'overmature')\n",
        "if not os.path.exists(overmature_dir):\n",
        "  os.makedirs(overmature_dir)"
      ],
      "execution_count": 14,
      "outputs": []
    },
    {
      "cell_type": "code",
      "metadata": {
        "id": "EKLgqMgTgdcB"
      },
      "source": [
        "PATH = 'Cocoa Ripeness Dataset'\n",
        "immature_dir = os.path.join(PATH, 'immature')\n",
        "os.makedirs(immature_dir)"
      ],
      "execution_count": 21,
      "outputs": []
    },
    {
      "cell_type": "code",
      "metadata": {
        "id": "FyRqZ-UMd2dR"
      },
      "source": [
        "import fnmatch\n",
        "import shutil\n",
        "\n",
        "for file in os.listdir(PATH):\n",
        "    if fnmatch.fnmatch(file, 'I*'):\n",
        "        print(file)\n",
        "        shutil.move(PATH+'/'+file, immature_dir+'/'+file)"
      ],
      "execution_count": null,
      "outputs": []
    },
    {
      "cell_type": "code",
      "metadata": {
        "id": "NvLTFPsrhR18"
      },
      "source": [
        "mature_dir = os.path.join(PATH, 'mature')\n",
        "os.makedirs(mature_dir)"
      ],
      "execution_count": null,
      "outputs": []
    },
    {
      "cell_type": "code",
      "metadata": {
        "id": "bux7lqUihV2c"
      },
      "source": [
        "for file in os.listdir(PATH):\n",
        "    if fnmatch.fnmatch(file, 'M*'):\n",
        "        print(file)\n",
        "        shutil.move(PATH+'/'+file, immature_dir+'/'+file)"
      ],
      "execution_count": null,
      "outputs": []
    },
    {
      "cell_type": "code",
      "metadata": {
        "id": "kDnFFuLxhV7X"
      },
      "source": [
        "overmature_dir = os.path.join(PATH, 'overmature')\n",
        "os.makedirs(overmature_dir)"
      ],
      "execution_count": null,
      "outputs": []
    },
    {
      "cell_type": "code",
      "metadata": {
        "id": "FtwORUtrhcpr"
      },
      "source": [
        "for file in os.listdir(PATH):\n",
        "    if fnmatch.fnmatch(file, 'O*'):\n",
        "        print(file)\n",
        "        shutil.move(PATH+'/'+file, immature_dir+'/'+file)"
      ],
      "execution_count": null,
      "outputs": []
    }
  ]
}