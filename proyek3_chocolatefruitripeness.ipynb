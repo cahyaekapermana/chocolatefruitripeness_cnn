{
  "nbformat": 4,
  "nbformat_minor": 0,
  "metadata": {
    "colab": {
      "name": "proyek3_chocolatefruitripeness.ipynb",
      "provenance": [],
      "include_colab_link": true
    },
    "kernelspec": {
      "name": "python3",
      "display_name": "Python 3"
    },
    "language_info": {
      "name": "python"
    }
  },
  "cells": [
    {
      "cell_type": "markdown",
      "metadata": {
        "id": "view-in-github",
        "colab_type": "text"
      },
      "source": [
        "<a href=\"https://colab.research.google.com/github/amelrnt/chocolatefruitripeness_cnn/blob/main/proyek3_chocolatefruitripeness.ipynb\" target=\"_parent\"><img src=\"https://colab.research.google.com/assets/colab-badge.svg\" alt=\"Open In Colab\"/></a>"
      ]
    },
    {
      "cell_type": "markdown",
      "metadata": {
        "id": "muaFkrpgWbvs"
      },
      "source": [
        "**PS: Create your kaggle credentials then upload to your runtime before running the script since the data source is public kaggle datasets**\n"
      ]
    },
    {
      "cell_type": "code",
      "metadata": {
        "id": "2NIB7odH6rgj"
      },
      "source": [
        "! pip install kaggle"
      ],
      "execution_count": null,
      "outputs": []
    },
    {
      "cell_type": "code",
      "metadata": {
        "id": "hvtgPX_BV6kN"
      },
      "source": [
        "! mkdir ~/.kaggle"
      ],
      "execution_count": 3,
      "outputs": []
    },
    {
      "cell_type": "code",
      "metadata": {
        "id": "JqBm8i18V8yi"
      },
      "source": [
        "! cp kaggle.json ~/.kaggle/"
      ],
      "execution_count": 4,
      "outputs": []
    },
    {
      "cell_type": "code",
      "metadata": {
        "id": "lv4lV7_CV-qO"
      },
      "source": [
        "! chmod 600 ~/.kaggle/kaggle.json"
      ],
      "execution_count": 5,
      "outputs": []
    },
    {
      "cell_type": "code",
      "metadata": {
        "id": "ARqdM410SUij"
      },
      "source": [
        "! kaggle datasets download juanfelipeheredia/cocoa-ripeness-dataset-tcs-01"
      ],
      "execution_count": null,
      "outputs": []
    },
    {
      "cell_type": "code",
      "metadata": {
        "id": "-PYBlwbXGD9A"
      },
      "source": [
        "!unzip cocoa-ripeness-dataset-tcs-01.zip"
      ],
      "execution_count": null,
      "outputs": []
    },
    {
      "cell_type": "code",
      "metadata": {
        "id": "whVdKC-BFW6g"
      },
      "source": [
        "try:\n",
        "  # This command only in Colab.\n",
        "  %tensorflow_version 2.x\n",
        "except Exception:\n",
        "  pass\n",
        "import tensorflow as tf\n",
        "\n",
        "from tensorflow.keras.models import Sequential\n",
        "from tensorflow.keras.layers import Dense, Conv2D, Flatten, Dropout, MaxPooling2D\n",
        "from tensorflow.keras.preprocessing.image import ImageDataGenerator\n",
        "\n",
        "import os\n",
        "import numpy as np\n",
        "import matplotlib.pyplot as plt"
      ],
      "execution_count": 1,
      "outputs": []
    },
    {
      "cell_type": "code",
      "metadata": {
        "id": "EKLgqMgTgdcB"
      },
      "source": [
        "PATH = 'Cocoa Ripeness Dataset'\n",
        "immature_dir = os.path.join(PATH, 'immature')\n",
        "os.makedirs(immature_dir)"
      ],
      "execution_count": 21,
      "outputs": []
    },
    {
      "cell_type": "code",
      "metadata": {
        "id": "FyRqZ-UMd2dR"
      },
      "source": [
        "import fnmatch\n",
        "import shutil\n",
        "\n",
        "for file in os.listdir(PATH):\n",
        "    if fnmatch.fnmatch(file, 'I*'):\n",
        "        shutil.move(PATH+'/'+file, immature_dir+'/'+file)"
      ],
      "execution_count": null,
      "outputs": []
    },
    {
      "cell_type": "code",
      "metadata": {
        "id": "NvLTFPsrhR18"
      },
      "source": [
        "mature_dir = os.path.join(PATH, 'mature')\n",
        "os.makedirs(mature_dir)"
      ],
      "execution_count": 24,
      "outputs": []
    },
    {
      "cell_type": "code",
      "metadata": {
        "id": "bux7lqUihV2c"
      },
      "source": [
        "for file in os.listdir(PATH):\n",
        "    if fnmatch.fnmatch(file, 'M*'):\n",
        "        shutil.move(PATH+'/'+file, immature_dir+'/'+file)"
      ],
      "execution_count": 25,
      "outputs": []
    },
    {
      "cell_type": "code",
      "metadata": {
        "id": "kDnFFuLxhV7X"
      },
      "source": [
        "overmature_dir = os.path.join(PATH, 'overmature')\n",
        "os.makedirs(overmature_dir)"
      ],
      "execution_count": 26,
      "outputs": []
    },
    {
      "cell_type": "code",
      "metadata": {
        "id": "FtwORUtrhcpr"
      },
      "source": [
        "for file in os.listdir(PATH):\n",
        "    if fnmatch.fnmatch(file, 'S*'):\n",
        "        shutil.move(PATH+'/'+file, immature_dir+'/'+file)"
      ],
      "execution_count": 28,
      "outputs": []
    },
    {
      "cell_type": "code",
      "metadata": {
        "id": "vukt8D-0qhLV"
      },
      "source": [
        "y = ['immature','mature','overmature']"
      ],
      "execution_count": 29,
      "outputs": []
    },
    {
      "cell_type": "code",
      "metadata": {
        "id": "3GtBJyGOrXwr"
      },
      "source": [
        "fixed_datasets = 'Cocoa Dataset to Train'\n",
        "for i in y:\n",
        "  os.makedirs(fixed_datasets +'/train/' + i)\n",
        "  os.makedirs(fixed_datasets +'/test/' + i)\n",
        "  source = PATH + '/' + i\n",
        "\n",
        "allFileNames = os.listdir(source)\n",
        "np.random.shuffle(allFileNames)\n",
        "test_ratio = 0.1\n",
        "train_FileNames, test_FileNames = np.split(np.array(allFileNames),\n",
        "                                                    [int(len(allFileNames)* (1 - test_ratio))])\n",
        "train_FileNames = [source+'/'+ name for name in train_FileNames.tolist()]\n",
        "test_FileNames = [source+'/' + name for name in test_FileNames.tolist()]\n",
        "\n",
        "for name in train_FileNames:\n",
        "  shutil.copy(name, PATH +'/train/' + i)\n",
        "\n",
        "for name in test_FileNames:\n",
        "  shutil.copy(name, PATH +'/test/' + i)"
      ],
      "execution_count": 31,
      "outputs": []
    }
  ]
}